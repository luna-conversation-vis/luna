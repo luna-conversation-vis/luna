{
 "cells": [
  {
   "cell_type": "code",
   "execution_count": 1,
   "id": "68df86a6",
   "metadata": {},
   "outputs": [],
   "source": [
    "import pandas as pd\n",
    "from conversation import Conversation"
   ]
  },
  {
   "cell_type": "code",
   "execution_count": 2,
   "id": "68d41ed5",
   "metadata": {},
   "outputs": [],
   "source": [
    "df = pd.read_csv(f\"./data/incident.csv\")\n",
    "conversation = Conversation(df)"
   ]
  },
  {
   "cell_type": "code",
   "execution_count": 3,
   "id": "bbdac219",
   "metadata": {
    "scrolled": true
   },
   "outputs": [
    {
     "data": {
      "application/vnd.jupyter.widget-view+json": {
       "model_id": "1c0977bad25c4b878a78651678415e57",
       "version_major": 2,
       "version_minor": 0
      },
      "text/plain": [
       "LuxWidget(current_vis={'config': {'view': {'continuousWidth': 400, 'continuousHeight': 300}, 'axis': {'labelCo…"
      ]
     },
     "metadata": {},
     "output_type": "display_data"
    }
   ],
   "source": [
    "conversation.ask(\"Where do the cases happen?\")"
   ]
  },
  {
   "cell_type": "code",
   "execution_count": 4,
   "id": "bf3aaf46",
   "metadata": {},
   "outputs": [
    {
     "data": {
      "application/vnd.jupyter.widget-view+json": {
       "model_id": "b82884b1c1b84e43afe3bdebc401c449",
       "version_major": 2,
       "version_minor": 0
      },
      "text/plain": [
       "LuxWidget(current_vis={'config': {'view': {'continuousWidth': 400, 'continuousHeight': 300}, 'axis': {'labelCo…"
      ]
     },
     "metadata": {},
     "output_type": "display_data"
    }
   ],
   "source": [
    "conversation.ask(\"In which counties do the cases happen?\")"
   ]
  },
  {
   "cell_type": "code",
   "execution_count": 5,
   "id": "e7549371",
   "metadata": {},
   "outputs": [
    {
     "data": {
      "application/vnd.jupyter.widget-view+json": {
       "model_id": "fd65d1ad827f4554a8547f4687109213",
       "version_major": 2,
       "version_minor": 0
      },
      "text/plain": [
       "LuxWidget(current_vis={'config': {'view': {'continuousWidth': 400, 'continuousHeight': 300}, 'axis': {'labelCo…"
      ]
     },
     "metadata": {},
     "output_type": "display_data"
    }
   ],
   "source": [
    "conversation.ask(\"How do the cases change over the years?\")"
   ]
  },
  {
   "cell_type": "code",
   "execution_count": 6,
   "id": "701eea59",
   "metadata": {},
   "outputs": [
    {
     "data": {
      "application/vnd.jupyter.widget-view+json": {
       "model_id": "b6ce232005c9409991e7a5e05466aea2",
       "version_major": 2,
       "version_minor": 0
      },
      "text/plain": [
       "LuxWidget(current_vis={'config': {'view': {'continuousWidth': 400, 'continuousHeight': 300}, 'axis': {'labelCo…"
      ]
     },
     "metadata": {},
     "output_type": "display_data"
    }
   ],
   "source": [
    "conversation.ask(\"Can you show me the distribution of cases where weapons are found or not?\")"
   ]
  },
  {
   "cell_type": "code",
   "execution_count": 7,
   "id": "4a892f25",
   "metadata": {},
   "outputs": [
    {
     "data": {
      "application/vnd.jupyter.widget-view+json": {
       "model_id": "1bf6fcc7b3fb44db8c1c0d4437389005",
       "version_major": 2,
       "version_minor": 0
      },
      "text/plain": [
       "LuxWidget(current_vis={'config': {'view': {'continuousWidth': 400, 'continuousHeight': 300}, 'axis': {'labelCo…"
      ]
     },
     "metadata": {},
     "output_type": "display_data"
    }
   ],
   "source": [
    "conversation.ask(\"What about those cases happened after 2016?\")"
   ]
  },
  {
   "cell_type": "code",
   "execution_count": 8,
   "id": "e45db89a",
   "metadata": {},
   "outputs": [
    {
     "data": {
      "application/vnd.jupyter.widget-view+json": {
       "model_id": "b4be1af4f11445d1a93827bd06f6e3c3",
       "version_major": 2,
       "version_minor": 0
      },
      "text/plain": [
       "LuxWidget(current_vis={'config': {'view': {'continuousWidth': 400, 'continuousHeight': 300}, 'axis': {'labelCo…"
      ]
     },
     "metadata": {},
     "output_type": "display_data"
    }
   ],
   "source": [
    "conversation.ask(\"Then can you also show the numbers of those cases in Contra Costa County?\")"
   ]
  }
 ],
 "metadata": {
  "kernelspec": {
   "display_name": "Python 3 (ipykernel)",
   "language": "python",
   "name": "python3"
  },
  "language_info": {
   "codemirror_mode": {
    "name": "ipython",
    "version": 3
   },
   "file_extension": ".py",
   "mimetype": "text/x-python",
   "name": "python",
   "nbconvert_exporter": "python",
   "pygments_lexer": "ipython3",
   "version": "3.9.16"
  }
 },
 "nbformat": 4,
 "nbformat_minor": 5
}
